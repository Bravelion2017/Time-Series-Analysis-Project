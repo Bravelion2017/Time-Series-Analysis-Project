{
  "nbformat": 4,
  "nbformat_minor": 0,
  "metadata": {
    "colab": {
      "name": "Time Series.ipynb",
      "provenance": []
    },
    "kernelspec": {
      "name": "python3",
      "display_name": "Python 3"
    },
    "language_info": {
      "name": "python"
    },
    "accelerator": "GPU"
  },
  "cells": [
    {
      "cell_type": "markdown",
      "source": [
        "<b>\n",
        "<p>\n",
        "<center>\n",
        "<font size='5'>\n",
        "LSTM for Predicting Traffic Volume\n",
        "</font>\n",
        "</center>\n",
        "</p>\n",
        "\n",
        "    \n",
        "<p>\n",
        "<center>\n",
        "<font size='4'>\n",
        "Time Series Project [Spring 2022 Session]\n",
        "</font>\n",
        "</center>\n",
        "</p>\n",
        "\n",
        "<p>\n",
        "<center>\n",
        "<font size='3'>\n",
        "Data Science, Columbian College of Arts & Sciences, George Washington University\n",
        "</font>\n",
        "</center>\n",
        "</p>\n",
        "\n",
        "<p>\n",
        "<center>\n",
        "<font size='3'>\n",
        "Osemekhian Solomon Ehilen\n",
        "</font>\n",
        "</center>\n",
        "</p>\n",
        "</b>"
      ],
      "metadata": {
        "id": "biMpqg7Zlafz"
      }
    },
    {
      "cell_type": "code",
      "source": [
        "from google.colab import drive\n",
        "import sys\n",
        "\n",
        "# Mount Google Drive\n",
        "drive.mount('/content/drive')\n",
        "#\"G:\\My Drive\\Colab Notebooks\\code\"\n",
        "\n",
        "# Get the absolute path of the current folder\n",
        "abspath_curr = '/content/drive/My Drive/Colab Notebooks/Time Series Project/'\n"
      ],
      "metadata": {
        "colab": {
          "base_uri": "https://localhost:8080/"
        },
        "id": "I3lTlJSTlKcB",
        "outputId": "a45cf898-82cd-49f8-dc95-7858a3554dc4"
      },
      "execution_count": 1,
      "outputs": [
        {
          "output_type": "stream",
          "name": "stdout",
          "text": [
            "Mounted at /content/drive\n"
          ]
        }
      ]
    },
    {
      "cell_type": "code",
      "source": [
        "import warnings\n",
        "\n",
        "# Ignore warnings\n",
        "warnings.filterwarnings('ignore')\n",
        "\n",
        "import matplotlib.pyplot as plt\n",
        "%matplotlib inline \n",
        "\n",
        "# Set matplotlib sizes\n",
        "plt.rc('font', size=20)\n",
        "plt.rc('axes', titlesize=20)\n",
        "plt.rc('axes', labelsize=20)\n",
        "plt.rc('xtick', labelsize=20)\n",
        "plt.rc('ytick', labelsize=20)\n",
        "plt.rc('legend', fontsize=20)\n",
        "plt.rc('figure', titlesize=20)\n",
        "\n",
        "# The magic below allows us to use tensorflow version 2.x\n",
        "%tensorflow_version 2.x \n",
        "import tensorflow_hub as hub\n",
        "import tensorflow as tf\n",
        "from tensorflow import keras\n",
        "\n",
        "# The random seed\n",
        "random_seed = 42\n",
        "\n",
        "# Set random seed in tensorflow\n",
        "tf.random.set_seed(random_seed)\n",
        "\n",
        "# Set random seed in numpy\n",
        "import numpy as np\n",
        "np.random.seed(random_seed)"
      ],
      "metadata": {
        "id": "XFBqk_KrtxBB"
      },
      "execution_count": 2,
      "outputs": []
    },
    {
      "cell_type": "code",
      "execution_count": 3,
      "metadata": {
        "id": "9NKUZVqNkpM9"
      },
      "outputs": [],
      "source": [
        "# univariate stacked lstm example\n",
        "from numpy import array\n",
        "from keras.models import Sequential\n",
        "from keras.layers import LSTM\n",
        "from keras.layers import Dense\n",
        "import pandas as pd "
      ]
    },
    {
      "cell_type": "code",
      "source": [
        "# split a univariate sequence\n",
        "def split_seq(sequence, n_steps):\n",
        "\tX, y = list(), list()\n",
        "\tfor i in range(len(sequence)):\n",
        "\t\t# find the end of this pattern\n",
        "\t\tend_ix = i + n_steps\n",
        "\t\t# check if we are beyond the sequence\n",
        "\t\tif end_ix > len(sequence)-1:\n",
        "\t\t\tbreak\n",
        "\t\t# gather input and output parts of the pattern\n",
        "\t\tseq_x, seq_y = sequence[i:end_ix], sequence[end_ix]\n",
        "\t\tX.append(seq_x)\n",
        "\t\ty.append(seq_y)\n",
        "\treturn array(X), array(y)\n"
      ],
      "metadata": {
        "id": "5SZSljIqk6-K"
      },
      "execution_count": 4,
      "outputs": []
    },
    {
      "cell_type": "markdown",
      "source": [
        "## Importing Dataset"
      ],
      "metadata": {
        "id": "_TnV4UPL5aGE"
      }
    },
    {
      "cell_type": "code",
      "source": [
        "import os\n",
        "os.chdir(abspath_curr + 'data/Metro_Interstate_Traffic_Volume.csv/')\n",
        "df= pd.read_csv('Metro_Interstate_Traffic_Volume.csv')\n",
        "df_copy= df.copy(deep=True)\n",
        "datetime= pd.date_range(start='2012-10-02 09:00:00',\n",
        "                        periods=len(df_copy), freq='1H') #set accurate date_range\n",
        "df_copy['date_time']=datetime\n",
        "\n",
        "#---------------Missing Values & transformation---------------------------------\n",
        "print(f'Missing Values: {df_copy.isna().sum().any()}')\n",
        "\n",
        "#---------------Dependent Variable time Plot-------------------\n",
        "df_copy.plot(x='date_time',y='traffic_volume')\n",
        "plt.title('Traffic Volume')\n",
        "plt.xticks(rotation=45)\n",
        "plt.show()\n",
        "\n",
        "target='traffic_volume'\n",
        "\n",
        "#----------------Splitting Dataset-----------------------------\n",
        "from sklearn.model_selection import train_test_split\n",
        "train,test= train_test_split(df_copy[target],train_size=0.8,shuffle=False)\n"
      ],
      "metadata": {
        "colab": {
          "base_uri": "https://localhost:8080/",
          "height": 367
        },
        "id": "lMRU1scs5chj",
        "outputId": "aa2129a2-8df0-4fc9-a7f9-67c0d8a10aab"
      },
      "execution_count": 5,
      "outputs": [
        {
          "output_type": "stream",
          "name": "stdout",
          "text": [
            "Missing Values: False\n"
          ]
        },
        {
          "output_type": "display_data",
          "data": {
            "text/plain": [
              "<Figure size 432x288 with 1 Axes>"
            ],
            "image/png": "[encoded data removed]"
          },
          "metadata": {
            "needs_background": "light"
          }
        }
      ]
    },
    {
      "cell_type": "code",
      "source": [
        "df_copy"
      ],
      "metadata": {
        "colab": {
          "base_uri": "https://localhost:8080/",
          "height": 423
        },
        "id": "FW2979F_7Als",
        "outputId": "260dd7a0-d4bc-42a4-a449-9dbf71d167de"
      },
      "execution_count": 6,
      "outputs": [
        {
          "output_type": "execute_result",
          "data": {
            "text/plain": [
              "      holiday    temp  rain_1h  snow_1h  clouds_all  weather_main  \\\n",
              "0        None  288.28      0.0      0.0          40        Clouds   \n",
              "1        None  289.36      0.0      0.0          75        Clouds   \n",
              "2        None  289.58      0.0      0.0          90        Clouds   \n",
              "3        None  290.13      0.0      0.0          90        Clouds   \n",
              "4        None  291.14      0.0      0.0          75        Clouds   \n",
              "...       ...     ...      ...      ...         ...           ...   \n",
              "48199    None  283.45      0.0      0.0          75        Clouds   \n",
              "48200    None  282.76      0.0      0.0          90        Clouds   \n",
              "48201    None  282.73      0.0      0.0          90  Thunderstorm   \n",
              "48202    None  282.09      0.0      0.0          90        Clouds   \n",
              "48203    None  282.12      0.0      0.0          90        Clouds   \n",
              "\n",
              "          weather_description           date_time  traffic_volume  \n",
              "0            scattered clouds 2012-10-02 09:00:00            5545  \n",
              "1               broken clouds 2012-10-02 10:00:00            4516  \n",
              "2             overcast clouds 2012-10-02 11:00:00            4767  \n",
              "3             overcast clouds 2012-10-02 12:00:00            5026  \n",
              "4               broken clouds 2012-10-02 13:00:00            4918  \n",
              "...                       ...                 ...             ...  \n",
              "48199           broken clouds 2018-04-02 16:00:00            3543  \n",
              "48200         overcast clouds 2018-04-02 17:00:00            2781  \n",
              "48201  proximity thunderstorm 2018-04-02 18:00:00            2159  \n",
              "48202         overcast clouds 2018-04-02 19:00:00            1450  \n",
              "48203         overcast clouds 2018-04-02 20:00:00             954  \n",
              "\n",
              "[48204 rows x 9 columns]"
            ],
            "text/html": [
              "\n",
              "  <div id=\"df-7a57e8be-6fe2-4e37-9b8a-2acc5a32c7c2\">\n",
              "    <div class=\"colab-df-container\">\n",
              "      <div>\n",
              "<style scoped>\n",
              "    .dataframe tbody tr th:only-of-type {\n",
              "        vertical-align: middle;\n",
              "    }\n",
              "\n",
              "    .dataframe tbody tr th {\n",
              "        vertical-align: top;\n",
              "    }\n",
              "\n",
              "    .dataframe thead th {\n",
              "        text-align: right;\n",
              "    }\n",
              "</style>\n",
              "<table border=\"1\" class=\"dataframe\">\n",
              "  <thead>\n",
              "    <tr style=\"text-align: right;\">\n",
              "      <th></th>\n",
              "      <th>holiday</th>\n",
              "      <th>temp</th>\n",
              "      <th>rain_1h</th>\n",
              "      <th>snow_1h</th>\n",
              "      <th>clouds_all</th>\n",
              "      <th>weather_main</th>\n",
              "      <th>weather_description</th>\n",
              "      <th>date_time</th>\n",
              "      <th>traffic_volume</th>\n",
              "    </tr>\n",
              "  </thead>\n",
              "  <tbody>\n",
              "    <tr>\n",
              "      <th>0</th>\n",
              "      <td>None</td>\n",
              "      <td>288.28</td>\n",
              "      <td>0.0</td>\n",
              "      <td>0.0</td>\n",
              "      <td>40</td>\n",
              "      <td>Clouds</td>\n",
              "      <td>scattered clouds</td>\n",
              "      <td>2012-10-02 09:00:00</td>\n",
              "      <td>5545</td>\n",
              "    </tr>\n",
              "    <tr>\n",
              "      <th>1</th>\n",
              "      <td>None</td>\n",
              "      <td>289.36</td>\n",
              "      <td>0.0</td>\n",
              "      <td>0.0</td>\n",
              "      <td>75</td>\n",
              "      <td>Clouds</td>\n",
              "      <td>broken clouds</td>\n",
              "      <td>2012-10-02 10:00:00</td>\n",
              "      <td>4516</td>\n",
              "    </tr>\n",
              "    <tr>\n",
              "      <th>2</th>\n",
              "      <td>None</td>\n",
              "      <td>289.58</td>\n",
              "      <td>0.0</td>\n",
              "      <td>0.0</td>\n",
              "      <td>90</td>\n",
              "      <td>Clouds</td>\n",
              "      <td>overcast clouds</td>\n",
              "      <td>2012-10-02 11:00:00</td>\n",
              "      <td>4767</td>\n",
              "    </tr>\n",
              "    <tr>\n",
              "      <th>3</th>\n",
              "      <td>None</td>\n",
              "      <td>290.13</td>\n",
              "      <td>0.0</td>\n",
              "      <td>0.0</td>\n",
              "      <td>90</td>\n",
              "      <td>Clouds</td>\n",
              "      <td>overcast clouds</td>\n",
              "      <td>2012-10-02 12:00:00</td>\n",
              "      <td>5026</td>\n",
              "    </tr>\n",
              "    <tr>\n",
              "      <th>4</th>\n",
              "      <td>None</td>\n",
              "      <td>291.14</td>\n",
              "      <td>0.0</td>\n",
              "      <td>0.0</td>\n",
              "      <td>75</td>\n",
              "      <td>Clouds</td>\n",
              "      <td>broken clouds</td>\n",
              "      <td>2012-10-02 13:00:00</td>\n",
              "      <td>4918</td>\n",
              "    </tr>\n",
              "    <tr>\n",
              "      <th>...</th>\n",
              "      <td>...</td>\n",
              "      <td>...</td>\n",
              "      <td>...</td>\n",
              "      <td>...</td>\n",
              "      <td>...</td>\n",
              "      <td>...</td>\n",
              "      <td>...</td>\n",
              "      <td>...</td>\n",
              "      <td>...</td>\n",
              "    </tr>\n",
              "    <tr>\n",
              "      <th>48199</th>\n",
              "      <td>None</td>\n",
              "      <td>283.45</td>\n",
              "      <td>0.0</td>\n",
              "      <td>0.0</td>\n",
              "      <td>75</td>\n",
              "      <td>Clouds</td>\n",
              "      <td>broken clouds</td>\n",
              "      <td>2018-04-02 16:00:00</td>\n",
              "      <td>3543</td>\n",
              "    </tr>\n",
              "    <tr>\n",
              "      <th>48200</th>\n",
              "      <td>None</td>\n",
              "      <td>282.76</td>\n",
              "      <td>0.0</td>\n",
              "      <td>0.0</td>\n",
              "      <td>90</td>\n",
              "      <td>Clouds</td>\n",
              "      <td>overcast clouds</td>\n",
              "      <td>2018-04-02 17:00:00</td>\n",
              "      <td>2781</td>\n",
              "    </tr>\n",
              "    <tr>\n",
              "      <th>48201</th>\n",
              "      <td>None</td>\n",
              "      <td>282.73</td>\n",
              "      <td>0.0</td>\n",
              "      <td>0.0</td>\n",
              "      <td>90</td>\n",
              "      <td>Thunderstorm</td>\n",
              "      <td>proximity thunderstorm</td>\n",
              "      <td>2018-04-02 18:00:00</td>\n",
              "      <td>2159</td>\n",
              "    </tr>\n",
              "    <tr>\n",
              "      <th>48202</th>\n",
              "      <td>None</td>\n",
              "      <td>282.09</td>\n",
              "      <td>0.0</td>\n",
              "      <td>0.0</td>\n",
              "      <td>90</td>\n",
              "      <td>Clouds</td>\n",
              "      <td>overcast clouds</td>\n",
              "      <td>2018-04-02 19:00:00</td>\n",
              "      <td>1450</td>\n",
              "    </tr>\n",
              "    <tr>\n",
              "      <th>48203</th>\n",
              "      <td>None</td>\n",
              "      <td>282.12</td>\n",
              "      <td>0.0</td>\n",
              "      <td>0.0</td>\n",
              "      <td>90</td>\n",
              "      <td>Clouds</td>\n",
              "      <td>overcast clouds</td>\n",
              "      <td>2018-04-02 20:00:00</td>\n",
              "      <td>954</td>\n",
              "    </tr>\n",
              "  </tbody>\n",
              "</table>\n",
              "<p>48204 rows × 9 columns</p>\n",
              "</div>\n",
              "      <button class=\"colab-df-convert\" onclick=\"convertToInteractive('df-7a57e8be-6fe2-4e37-9b8a-2acc5a32c7c2')\"\n",
              "              title=\"Convert this dataframe to an interactive table.\"\n",
              "              style=\"display:none;\">\n",
              "        \n",
              "  <svg xmlns=\"http://www.w3.org/2000/svg\" height=\"24px\"viewBox=\"0 0 24 24\"\n",
              "       width=\"24px\">\n",
              "    <path d=\"M0 0h24v24H0V0z\" fill=\"none\"/>\n",
              "    <path d=\"M18.56 5.44l.94 2.06.94-2.06 2.06-.94-2.06-.94-.94-2.06-.94 2.06-2.06.94zm-11 1L8.5 8.5l.94-2.06 2.06-.94-2.06-.94L8.5 2.5l-.94 2.06-2.06.94zm10 10l.94 2.06.94-2.06 2.06-.94-2.06-.94-.94-2.06-.94 2.06-2.06.94z\"/><path d=\"M17.41 7.96l-1.37-1.37c-.4-.4-.92-.59-1.43-.59-.52 0-1.04.2-1.43.59L10.3 9.45l-7.72 7.72c-.78.78-.78 2.05 0 2.83L4 21.41c.39.39.9.59 1.41.59.51 0 1.02-.2 1.41-.59l7.78-7.78 2.81-2.81c.8-.78.8-2.07 0-2.86zM5.41 20L4 18.59l7.72-7.72 1.47 1.35L5.41 20z\"/>\n",
              "  </svg>\n",
              "      </button>\n",
              "      \n",
              "  <style>\n",
              "    .colab-df-container {\n",
              "      display:flex;\n",
              "      flex-wrap:wrap;\n",
              "      gap: 12px;\n",
              "    }\n",
              "\n",
              "    .colab-df-convert {\n",
              "      background-color: #E8F0FE;\n",
              "      border: none;\n",
              "      border-radius: 50%;\n",
              "      cursor: pointer;\n",
              "      display: none;\n",
              "      fill: #1967D2;\n",
              "      height: 32px;\n",
              "      padding: 0 0 0 0;\n",
              "      width: 32px;\n",
              "    }\n",
              "\n",
              "    .colab-df-convert:hover {\n",
              "      background-color: #E2EBFA;\n",
              "      box-shadow: 0px 1px 2px rgba(60, 64, 67, 0.3), 0px 1px 3px 1px rgba(60, 64, 67, 0.15);\n",
              "      fill: #174EA6;\n",
              "    }\n",
              "\n",
              "    [theme=dark] .colab-df-convert {\n",
              "      background-color: #3B4455;\n",
              "      fill: #D2E3FC;\n",
              "    }\n",
              "\n",
              "    [theme=dark] .colab-df-convert:hover {\n",
              "      background-color: #434B5C;\n",
              "      box-shadow: 0px 1px 3px 1px rgba(0, 0, 0, 0.15);\n",
              "      filter: drop-shadow(0px 1px 2px rgba(0, 0, 0, 0.3));\n",
              "      fill: #FFFFFF;\n",
              "    }\n",
              "  </style>\n",
              "\n",
              "      <script>\n",
              "        const buttonEl =\n",
              "          document.querySelector('#df-7a57e8be-6fe2-4e37-9b8a-2acc5a32c7c2 button.colab-df-convert');\n",
              "        buttonEl.style.display =\n",
              "          google.colab.kernel.accessAllowed ? 'block' : 'none';\n",
              "\n",
              "        async function convertToInteractive(key) {\n",
              "          const element = document.querySelector('#df-7a57e8be-6fe2-4e37-9b8a-2acc5a32c7c2');\n",
              "          const dataTable =\n",
              "            await google.colab.kernel.invokeFunction('convertToInteractive',\n",
              "                                                     [key], {});\n",
              "          if (!dataTable) return;\n",
              "\n",
              "          const docLinkHtml = 'Like what you see? Visit the ' +\n",
              "            '<a target=\"_blank\" href=https://colab.research.google.com/notebooks/data_table.ipynb>data table notebook</a>'\n",
              "            + ' to learn more about interactive tables.';\n",
              "          element.innerHTML = '';\n",
              "          dataTable['output_type'] = 'display_data';\n",
              "          await google.colab.output.renderOutput(dataTable, element);\n",
              "          const docLink = document.createElement('div');\n",
              "          docLink.innerHTML = docLinkHtml;\n",
              "          element.appendChild(docLink);\n",
              "        }\n",
              "      </script>\n",
              "    </div>\n",
              "  </div>\n",
              "  "
            ]
          },
          "metadata": {},
          "execution_count": 6
        }
      ]
    },
    {
      "cell_type": "code",
      "source": [
        "# define input sequence\n",
        "traffic_volume = train\n",
        "# number of time steps\n",
        "n_steps = 24 \n",
        "# split into samples\n",
        "X, y = split_seq(traffic_volume, n_steps)\n",
        "train_y=y\n",
        "# reshape from [samples, timesteps] into [samples, timesteps, features]\n",
        "n_features = 1\n",
        "X = X.reshape((X.shape[0], X.shape[1], n_features))\n"
      ],
      "metadata": {
        "id": "hwdEiqYEk_bj"
      },
      "execution_count": 46,
      "outputs": []
    },
    {
      "cell_type": "code",
      "source": [
        "# ModelCheckpoint callback to_save_the_model\n",
        "model_checkpoint_cb = keras.callbacks.ModelCheckpoint(filepath=abspath_curr + '/modelLSTM/LSTM.h5',\n",
        "                                                      save_best_only=True,\n",
        "                                                      save_weights_only=True, monitor='loss')\n",
        "# EarlyStopping callback\n",
        "early_stopping_cb = keras.callbacks.EarlyStopping(patience=6,\n",
        "                                                  restore_best_weights=True)\n",
        "\n",
        "# ReduceLROnPlateau callback #Performance Scheduling\n",
        "reduce_lr_on_plateau_cb = keras.callbacks.ReduceLROnPlateau(factor=0.1,\n",
        "                                                            patience=2)"
      ],
      "metadata": {
        "id": "5V9FWbhaBtNO"
      },
      "execution_count": 8,
      "outputs": []
    },
    {
      "cell_type": "code",
      "source": [
        "# define model Biderctional LSTM\n",
        "model = Sequential()\n",
        "#model.add(LSTM(50, activation='relu', return_sequences=True, input_shape=(n_steps, n_features)))\n",
        "model.add(keras.layers.Bidirectional(LSTM(50, activation='relu'), input_shape=(n_steps, n_features)))\n",
        "#model.add(LSTM(50, activation='relu'))\n",
        "model.add(Dense(90,activation='relu'))\n",
        "model.add(Dense(70,activation='relu'))\n",
        "model.add(Dense(50,activation='relu'))\n",
        "model.add(Dense(1,activation='relu'))\n",
        "model.compile(optimizer='adam', loss=tf.keras.losses.MeanSquaredError())\n",
        "model.summary()"
      ],
      "metadata": {
        "colab": {
          "base_uri": "https://localhost:8080/"
        },
        "id": "G2vAzyk82R3h",
        "outputId": "5e8bc406-7264-4e2f-ef31-e26ece0c0d00"
      },
      "execution_count": 43,
      "outputs": [
        {
          "output_type": "stream",
          "name": "stdout",
          "text": [
            "WARNING:tensorflow:Layer lstm_1 will not use cuDNN kernels since it doesn't meet the criteria. It will use a generic GPU kernel as fallback when running on GPU.\n",
            "WARNING:tensorflow:Layer lstm_1 will not use cuDNN kernels since it doesn't meet the criteria. It will use a generic GPU kernel as fallback when running on GPU.\n",
            "WARNING:tensorflow:Layer lstm_1 will not use cuDNN kernels since it doesn't meet the criteria. It will use a generic GPU kernel as fallback when running on GPU.\n",
            "Model: \"sequential_1\"\n",
            "_________________________________________________________________\n",
            " Layer (type)                Output Shape              Param #   \n",
            "=================================================================\n",
            " bidirectional_1 (Bidirectio  (None, 100)              20800     \n",
            " nal)                                                            \n",
            "                                                                 \n",
            " dense_3 (Dense)             (None, 90)                9090      \n",
            "                                                                 \n",
            " dense_4 (Dense)             (None, 70)                6370      \n",
            "                                                                 \n",
            " dense_5 (Dense)             (None, 50)                3550      \n",
            "                                                                 \n",
            " dense_6 (Dense)             (None, 1)                 51        \n",
            "                                                                 \n",
            "=================================================================\n",
            "Total params: 39,861\n",
            "Trainable params: 39,861\n",
            "Non-trainable params: 0\n",
            "_________________________________________________________________\n"
          ]
        }
      ]
    },
    {
      "cell_type": "markdown",
      "source": [
        "## Saving model"
      ],
      "metadata": {
        "id": "4gJm0vQJBdAO"
      }
    },
    {
      "cell_type": "code",
      "source": [
        "# Make directory\n",
        "directory = os.path.dirname(abspath_curr + '/modelLSTM/')\n",
        "if not os.path.exists(directory):\n",
        "    os.makedirs(directory)"
      ],
      "metadata": {
        "id": "vUWTfJSgBfGR"
      },
      "execution_count": 44,
      "outputs": []
    },
    {
      "cell_type": "code",
      "source": [
        "# fit model\n",
        "history=model.fit(X,y, epochs=10, callbacks=[model_checkpoint_cb,\n",
        "                                                         early_stopping_cb,reduce_lr_on_plateau_cb],\n",
        "                                                        validation_split=0.2)"
      ],
      "metadata": {
        "colab": {
          "base_uri": "https://localhost:8080/"
        },
        "id": "MG2K5KfolFnF",
        "outputId": "8b40d6c4-82d2-472f-845a-4878ad488a6e"
      },
      "execution_count": 47,
      "outputs": [
        {
          "output_type": "stream",
          "name": "stdout",
          "text": [
            "Epoch 1/10\n",
            "964/964 [==============================] - 75s 78ms/step - loss: 1503981.3750 - val_loss: 954234.8125 - lr: 0.0010\n",
            "Epoch 2/10\n",
            "964/964 [==============================] - 74s 76ms/step - loss: 2532186.0000 - val_loss: 1502302.3750 - lr: 0.0010\n",
            "Epoch 3/10\n",
            "964/964 [==============================] - 74s 77ms/step - loss: 1627304.5000 - val_loss: 1468555.2500 - lr: 0.0010\n",
            "Epoch 4/10\n",
            "964/964 [==============================] - 74s 77ms/step - loss: 1234758.1250 - val_loss: 993209.0625 - lr: 1.0000e-04\n",
            "Epoch 5/10\n",
            "964/964 [==============================] - 74s 77ms/step - loss: 1082706.5000 - val_loss: 855656.2500 - lr: 1.0000e-04\n",
            "Epoch 6/10\n",
            "964/964 [==============================] - 74s 76ms/step - loss: 976253.9375 - val_loss: 761405.1250 - lr: 1.0000e-04\n",
            "Epoch 7/10\n",
            "964/964 [==============================] - 74s 77ms/step - loss: 961559.5000 - val_loss: 1069841.8750 - lr: 1.0000e-04\n",
            "Epoch 8/10\n",
            "964/964 [==============================] - 73s 75ms/step - loss: 1092752.1250 - val_loss: 1216224.3750 - lr: 1.0000e-04\n",
            "Epoch 9/10\n",
            "964/964 [==============================] - 74s 76ms/step - loss: 1254351.6250 - val_loss: 1224172.0000 - lr: 1.0000e-05\n",
            "Epoch 10/10\n",
            "964/964 [==============================] - 74s 77ms/step - loss: 1260723.8750 - val_loss: 1201084.5000 - lr: 1.0000e-05\n"
          ]
        }
      ]
    },
    {
      "cell_type": "code",
      "source": [
        "#Check loss and accuracy\n",
        "import pandas as pd\n",
        "\n",
        "# Create a figure\n",
        "pd.DataFrame(history.history).plot(figsize=(8, 5))\n",
        "\n",
        "# Save and show the figure\n",
        "plt.tight_layout()\n",
        "plt.legend(loc='center')\n",
        "plt.title(\"Learning Curve\")\n",
        "plt.xlabel('Epoch')\n",
        "plt.show()"
      ],
      "metadata": {
        "colab": {
          "base_uri": "https://localhost:8080/",
          "height": 374
        },
        "id": "-HAb_AwT1zKO",
        "outputId": "3ecb3e3b-d692-4f7a-ccb9-e1cb14773e17"
      },
      "execution_count": 48,
      "outputs": [
        {
          "output_type": "display_data",
          "data": {
            "text/plain": [
              "<Figure size 576x360 with 1 Axes>"
            ],
            "image/png": "[encoded data removed]"
          },
          "metadata": {
            "needs_background": "light"
          }
        }
      ]
    },
    {
      "cell_type": "code",
      "source": [
        "# demonstrate prediction\n",
        "x_input =  X #array([90])\n",
        "x_input = x_input.reshape((-1, n_steps, n_features))\n",
        "\n",
        "pred = model.predict(x_input)\n",
        "print(pred)"
      ],
      "metadata": {
        "colab": {
          "base_uri": "https://localhost:8080/"
        },
        "id": "nxL-jpFB1p6t",
        "outputId": "c01a554c-0890-4b70-c5c5-425f9d9aa268"
      },
      "execution_count": 49,
      "outputs": [
        {
          "output_type": "stream",
          "name": "stdout",
          "text": [
            "[[5393.9277]\n",
            " [4904.466 ]\n",
            " [5098.757 ]\n",
            " ...\n",
            " [1874.2981]\n",
            " [2055.4473]\n",
            " [2325.6045]]\n"
          ]
        }
      ]
    },
    {
      "cell_type": "code",
      "source": [
        "from sklearn.metrics import mean_squared_error\n",
        "print(f'MSE prediction: {mean_squared_error(y,pred)}')"
      ],
      "metadata": {
        "colab": {
          "base_uri": "https://localhost:8080/"
        },
        "id": "r7f7teWIKlrm",
        "outputId": "4268b918-330f-4f93-ebe9-e02002399776"
      },
      "execution_count": 50,
      "outputs": [
        {
          "output_type": "stream",
          "name": "stdout",
          "text": [
            "MSE prediction: 1251498.2047935843\n"
          ]
        }
      ]
    },
    {
      "cell_type": "code",
      "source": [
        "#Auto-Correlation Function (ACF)\n",
        "def ACF(array,lag,label):\n",
        "    \"\"\"\n",
        "    This returns the Autocorrelation of a time series data.\n",
        "    Print 'ac' to get autocorrelation coefficients\n",
        "\n",
        "    Parameters\n",
        "    ----------\n",
        "    :param array :  Array of Time Series Data\n",
        "    :param lag : Number of Lags\n",
        "    :param label : Title\n",
        "    \"\"\"\n",
        "    global ac\n",
        "    mu= np.mean(array)\n",
        "    var=0;Rt=0;ac=[]\n",
        "    var= sum(map(lambda x:(x-mu)**2,array))\n",
        "    for j in range(lag):\n",
        "        for i in range((j),len(array)):\n",
        "            Rt += (array[i]-mu)*(array[i-j]-mu)\n",
        "        ac.append(round(Rt/var,4))\n",
        "        Rt=0\n",
        "    ry= ac[::-1][:-1] + ac\n",
        "    plt.stem(np.linspace(-((len(ac))-1), len(ac)-1, (len(ac)*2-1), dtype=int), ry, markerfmt='o')\n",
        "    plt.axhspan(-(1.96/np.sqrt(len(array))), (1.96/np.sqrt(len(array))), alpha=0.2, color='blue')\n",
        "    plt.title(f'Autocorrelation Function of {label}')\n",
        "    plt.ylabel('Magnitude'); plt.xlabel('Lags')\n",
        "    plt.show()\n"
      ],
      "metadata": {
        "id": "1En38zGjQ14n"
      },
      "execution_count": 51,
      "outputs": []
    },
    {
      "cell_type": "code",
      "source": [
        "residual=y.ravel()[1:]-pred.ravel()[:-1]\n",
        "ACF(residual,50,'Biderectional LSTM Residuals')\n",
        "print(f'Variance of Residual: {round(np.var(residual))}')\n",
        "\n",
        "plt.plot(y.ravel()[1:],label='Train')\n",
        "plt.plot(pred.ravel()[:-1],label='LSTM Prediction')\n",
        "plt.legend()\n",
        "plt.ylabel('Traffic volume')\n",
        "plt.xlabel('Time step')\n",
        "plt.title('LSTM Prediction')\n",
        "plt.show()"
      ],
      "metadata": {
        "colab": {
          "base_uri": "https://localhost:8080/",
          "height": 636
        },
        "id": "xuFB1oJ7RFfY",
        "outputId": "72be8329-f46c-42f4-d709-45a377b54f8b"
      },
      "execution_count": 92,
      "outputs": [
        {
          "output_type": "display_data",
          "data": {
            "text/plain": [
              "<Figure size 432x288 with 1 Axes>"
            ],
            "image/png": "[encoded data removed]"
          },
          "metadata": {
            "needs_background": "light"
          }
        },
        {
          "output_type": "stream",
          "name": "stdout",
          "text": [
            "Variance of Residual: 2001939\n"
          ]
        },
        {
          "output_type": "display_data",
          "data": {
            "text/plain": [
              "<Figure size 432x288 with 1 Axes>"
            ],
            "image/png": "[encoded data removed]"
          },
          "metadata": {
            "needs_background": "light"
          }
        }
      ]
    },
    {
      "cell_type": "code",
      "source": [
        "import statsmodels.api as sm\n",
        "Q= sm.stats.acorr_ljungbox(residual, lags=[50])\n",
        "print(f'Qvalue: {Q}')"
      ],
      "metadata": {
        "colab": {
          "base_uri": "https://localhost:8080/"
        },
        "id": "9iARH2ZHSybX",
        "outputId": "ea33f273-b215-4bff-a1ca-f229da9ce185"
      },
      "execution_count": 53,
      "outputs": [
        {
          "output_type": "stream",
          "name": "stdout",
          "text": [
            "Qvalue: (array([28721.48425235]), array([0.]))\n"
          ]
        }
      ]
    },
    {
      "cell_type": "code",
      "source": [
        "test"
      ],
      "metadata": {
        "colab": {
          "base_uri": "https://localhost:8080/"
        },
        "id": "cR3zWXMvF4yY",
        "outputId": "6bb8b176-9c26-4894-e7bf-3b8278857eb3"
      },
      "execution_count": 54,
      "outputs": [
        {
          "output_type": "execute_result",
          "data": {
            "text/plain": [
              "38563    2704\n",
              "38564    2704\n",
              "38565    2204\n",
              "38566    2204\n",
              "38567    1713\n",
              "         ... \n",
              "48199    3543\n",
              "48200    2781\n",
              "48201    2159\n",
              "48202    1450\n",
              "48203     954\n",
              "Name: traffic_volume, Length: 9641, dtype: int64"
            ]
          },
          "metadata": {},
          "execution_count": 54
        }
      ]
    },
    {
      "cell_type": "code",
      "source": [
        "# split a univariate sequence\n",
        "def split_seq(sequence, n_steps):\n",
        "\tX, y = list(), list()\n",
        "\tfor i in range(len(sequence)):\n",
        "\t\t# find the end of this pattern\n",
        "\t\tend_ix = i + n_steps\n",
        "\t\t# check if we are beyond the sequence\n",
        "\t\tif end_ix > len(sequence)-1:\n",
        "\t\t\tbreak\n",
        "\t\t# gather input and output parts of the pattern\n",
        "\t\tseq_x, seq_y = sequence[i:end_ix], sequence[end_ix]\n",
        "\t\tX.append(seq_x)\n",
        "\t\ty.append(seq_y)\n",
        "\treturn array(X), array(y)\n"
      ],
      "metadata": {
        "id": "5yJGhvloGaCg"
      },
      "execution_count": 55,
      "outputs": []
    },
    {
      "cell_type": "code",
      "source": [
        "forecast_main=[]\n",
        "last24=train[len(train)-9600:].ravel().tolist()\n",
        "for i in range(len(test)):#last 1 month for next 1 month forecast\n",
        "  # define input sequence\n",
        "  take=last24[len(last24)-9600:]\n",
        "  traffic_volume = take\n",
        "\n",
        "\n",
        "  # # demonstrate forecast\n",
        "  forecast = model.predict(array(traffic_volume).reshape((-1,24,1)))\n",
        "  forecast_main.append(forecast[0][0])\n",
        "  last24.append(forecast[0][0])"
      ],
      "metadata": {
        "id": "Q5i8xTSC6D-q"
      },
      "execution_count": 63,
      "outputs": []
    },
    {
      "cell_type": "code",
      "source": [
        "forecast_main= array(forecast_main).astype('int')\n",
        "print(forecast_main[:25])\n",
        "print(len(forecast_main))"
      ],
      "metadata": {
        "colab": {
          "base_uri": "https://localhost:8080/"
        },
        "id": "iQ8jiu9rK5j-",
        "outputId": "0e1226bc-319f-49fa-ae0b-fd0b32cab28e"
      },
      "execution_count": 88,
      "outputs": [
        {
          "output_type": "stream",
          "name": "stdout",
          "text": [
            "[3360 2517 2415 2046 1665 1110 1048 1438 1977 1600 1332 1262 1281 1177\n",
            " 1088 1117  688  777  530  571  518  582  448  500  599]\n",
            "9641\n"
          ]
        }
      ]
    },
    {
      "cell_type": "code",
      "source": [
        "print(test.ravel()[:25])\n",
        "print((len(test),len(forecast_main)))"
      ],
      "metadata": {
        "colab": {
          "base_uri": "https://localhost:8080/"
        },
        "id": "s2hTyrb9Gur2",
        "outputId": "2bd794bc-b61b-4613-d08f-7c7d65cc5234"
      },
      "execution_count": 86,
      "outputs": [
        {
          "output_type": "stream",
          "name": "stdout",
          "text": [
            "[2704 2704 2204 2204 1713 1713 1068  611  362  254  254  383  383  820\n",
            "  820 2914 2914 5674 5674 6258 6258 5995 5995 5488 4606]\n",
            "(9641, 9641)\n"
          ]
        }
      ]
    },
    {
      "cell_type": "code",
      "source": [
        "from sklearn.metrics import mean_squared_error\n",
        "mse_f=mean_squared_error(test.ravel()[1:],forecast_main[:-1])\n",
        "print(f'MSE Forecast: {mse_f}')"
      ],
      "metadata": {
        "colab": {
          "base_uri": "https://localhost:8080/"
        },
        "id": "tTHbILy57G-8",
        "outputId": "e757f8fa-6603-4b99-c875-1e63313a57a9"
      },
      "execution_count": 81,
      "outputs": [
        {
          "output_type": "stream",
          "name": "stdout",
          "text": [
            "MSE Forecast: 6719125.784854772\n"
          ]
        }
      ]
    },
    {
      "cell_type": "code",
      "source": [
        "plt.plot(test.ravel()[2:],label='Test')\n",
        "plt.plot(forecast_main[:-2],label='LSTM Forecast')\n",
        "plt.legend()\n",
        "plt.ylabel('Traffic volume')\n",
        "plt.xlabel('Time step')\n",
        "plt.title('LSTM Forecast')\n",
        "plt.show()\n",
        "\n",
        "f_error= test.ravel()[2:]- forecast_main[:-2]\n",
        "ACF(f_error,20,'Biderectional LSTM Residuals')"
      ],
      "metadata": {
        "colab": {
          "base_uri": "https://localhost:8080/",
          "height": 619
        },
        "id": "ox9MnG_H7TaA",
        "outputId": "4e8fe9a6-50f8-4852-9143-159294e3c1c5"
      },
      "execution_count": 89,
      "outputs": [
        {
          "output_type": "display_data",
          "data": {
            "text/plain": [
              "<Figure size 432x288 with 1 Axes>"
            ],
            "image/png": "[encoded data removed]"
          },
          "metadata": {
            "needs_background": "light"
          }
        },
        {
          "output_type": "display_data",
          "data": {
            "text/plain": [
              "<Figure size 432x288 with 1 Axes>"
            ],
            "image/png": "[encoded data removed]"
          },
          "metadata": {
            "needs_background": "light"
          }
        }
      ]
    },
    {
      "cell_type": "code",
      "source": [
        "print(f'Variance of Forecast Error: {round(np.var(f_error))}')"
      ],
      "metadata": {
        "colab": {
          "base_uri": "https://localhost:8080/"
        },
        "id": "HsMfTmpCZzEx",
        "outputId": "20d89777-9686-4b6c-d87b-03363ff5abe5"
      },
      "execution_count": 90,
      "outputs": [
        {
          "output_type": "stream",
          "name": "stdout",
          "text": [
            "Variance of Forecast Error: 6627908\n"
          ]
        }
      ]
    },
    {
      "cell_type": "code",
      "source": [
        "Q= sm.stats.acorr_ljungbox(f_error, lags=[20])\n",
        "print(f'Qvalue: {Q}')"
      ],
      "metadata": {
        "colab": {
          "base_uri": "https://localhost:8080/"
        },
        "id": "OaVjnMlW8D_2",
        "outputId": "2db33819-3345-4b00-ab1c-8ff1f7c7dd91"
      },
      "execution_count": 91,
      "outputs": [
        {
          "output_type": "stream",
          "name": "stdout",
          "text": [
            "Qvalue: (array([28693.32268179]), array([0.]))\n"
          ]
        }
      ]
    }
  ]
}